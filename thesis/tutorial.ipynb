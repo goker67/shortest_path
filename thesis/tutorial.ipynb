{
 "cells": [
  {
   "cell_type": "code",
   "execution_count": 1,
   "metadata": {},
   "outputs": [],
   "source": [
    "import matplotlib.pyplot as plt\n",
    "import networkx as nx\n",
    "import numpy as np\n",
    "import random\n",
    "import graphs\n",
    "import weights\n",
    "import pandas as pd"
   ]
  },
  {
   "cell_type": "code",
   "execution_count": 2,
   "metadata": {},
   "outputs": [],
   "source": [
    "edges_8 = [\n",
    "        (1, 2), (2,1), (1, 3),(3,1), (1, 4), (4,1), (2, 3), (3,2), (5,2), (4,3), (6,3), \n",
    "        (2, 5), (3, 4), (3, 6), (4, 7), (7,4), (6,5), (7,6), (8,6), (8,5), (8,7),\n",
    "        (5, 6), (6, 7), (6, 8),\n",
    "        (5, 8), (7, 8)]"
   ]
  },
  {
   "cell_type": "code",
   "execution_count": 3,
   "metadata": {},
   "outputs": [
    {
     "data": {
      "image/png": "[encoded data removed]",
      "text/plain": [
       "<Figure size 432x288 with 1 Axes>"
      ]
     },
     "metadata": {},
     "output_type": "display_data"
    }
   ],
   "source": [
    "G = nx.Graph()\n",
    "G.add_edges_from(edges_8)\n",
    "pos = nx.spring_layout(G)\n",
    "nx.draw_networkx_nodes(G,pos)\n",
    "nx.draw_networkx_edges(G,pos)\n",
    "nx.draw_networkx_labels(G,pos)\n",
    "plt.show()"
   ]
  },
  {
   "cell_type": "code",
   "execution_count": 4,
   "metadata": {},
   "outputs": [],
   "source": [
    "R = np.matrix(np.zeros(shape=(9,9)))\n",
    "for x in G[8]:\n",
    "    R[x, 8] = 100"
   ]
  },
  {
   "cell_type": "code",
   "execution_count": 5,
   "metadata": {},
   "outputs": [],
   "source": [
    "Q = np.matrix(np.zeros(shape=(9,9)))\n",
    "Q -= 100\n",
    "for node in G.nodes:\n",
    "    for x in G[node]:\n",
    "        speed = random.randint(40, 90)\n",
    "        Q[node,x] = speed\n",
    "        Q[x, node] = speed\n"
   ]
  },
  {
   "cell_type": "code",
   "execution_count": 6,
   "metadata": {},
   "outputs": [],
   "source": [
    "def next_number(start, er):\n",
    "    random_value = random.uniform(0, 1)\n",
    "    if random_value<er:\n",
    "        sample = G[start]\n",
    "    else:\n",
    "        sample = np.where(Q[start,] == np.max(Q[start,]))[1]\n",
    "    next_node = int(np.random.choice(sample, 1))\n",
    "    return next_node"
   ]
  },
  {
   "cell_type": "code",
   "execution_count": 7,
   "metadata": {},
   "outputs": [],
   "source": [
    "def updateQ(node1, node2, lr, discount):\n",
    "    max_index = np.where(Q[node2,] == np.max(Q[node2,]))[1]\n",
    "    if max_index.shape[0] > 1:\n",
    "        max_index = int(np.random.choice(max_index, size = 1))\n",
    "    else:\n",
    "        max_index = int(max_index)\n",
    "    max_value = Q[node2, max_index]\n",
    "    Q[node1, node2] = int((1-lr)*Q[node1, node2] + lr * (R[node1, node2] + discount * max_value))"
   ]
  },
  {
   "cell_type": "code",
   "execution_count": 8,
   "metadata": {},
   "outputs": [],
   "source": [
    "def learn(er,lr,discount, epoch):\n",
    "    for i in range(epoch):\n",
    "        start = np.random.randint(1,8)\n",
    "        next_node = next_number(start, er)\n",
    "        updateQ(start, next_node, lr, discount)\n"
   ]
  },
  {
   "cell_type": "code",
   "execution_count": 9,
   "metadata": {},
   "outputs": [],
   "source": [
    "exploration_rate = 0.5\n",
    "learning_rate = 0.8\n",
    "discount_factor = 0.8\n",
    "epoch = 50000"
   ]
  },
  {
   "cell_type": "code",
   "execution_count": 10,
   "metadata": {},
   "outputs": [],
   "source": [
    "learn(exploration_rate, learning_rate, discount_factor, epoch)"
   ]
  },
  {
   "cell_type": "code",
   "execution_count": 11,
   "metadata": {},
   "outputs": [
    {
     "data": {
      "text/html": [
       "<div>\n",
       "<style scoped>\n",
       "    .dataframe tbody tr th:only-of-type {\n",
       "        vertical-align: middle;\n",
       "    }\n",
       "\n",
       "    .dataframe tbody tr th {\n",
       "        vertical-align: top;\n",
       "    }\n",
       "\n",
       "    .dataframe thead th {\n",
       "        text-align: right;\n",
       "    }\n",
       "</style>\n",
       "<table border=\"1\" class=\"dataframe\">\n",
       "  <thead>\n",
       "    <tr style=\"text-align: right;\">\n",
       "      <th></th>\n",
       "      <th>0</th>\n",
       "      <th>1</th>\n",
       "      <th>2</th>\n",
       "      <th>3</th>\n",
       "      <th>4</th>\n",
       "      <th>5</th>\n",
       "      <th>6</th>\n",
       "      <th>7</th>\n",
       "      <th>8</th>\n",
       "    </tr>\n",
       "  </thead>\n",
       "  <tbody>\n",
       "    <tr>\n",
       "      <th>0</th>\n",
       "      <td>-100.0</td>\n",
       "      <td>-100.0</td>\n",
       "      <td>-100.0</td>\n",
       "      <td>-100.0</td>\n",
       "      <td>-100.0</td>\n",
       "      <td>-100.0</td>\n",
       "      <td>-100.0</td>\n",
       "      <td>-100.0</td>\n",
       "      <td>-100.0</td>\n",
       "    </tr>\n",
       "    <tr>\n",
       "      <th>1</th>\n",
       "      <td>-100.0</td>\n",
       "      <td>-100.0</td>\n",
       "      <td>107.0</td>\n",
       "      <td>107.0</td>\n",
       "      <td>107.0</td>\n",
       "      <td>-100.0</td>\n",
       "      <td>-100.0</td>\n",
       "      <td>-100.0</td>\n",
       "      <td>-100.0</td>\n",
       "    </tr>\n",
       "    <tr>\n",
       "      <th>2</th>\n",
       "      <td>-100.0</td>\n",
       "      <td>85.0</td>\n",
       "      <td>-100.0</td>\n",
       "      <td>107.0</td>\n",
       "      <td>-100.0</td>\n",
       "      <td>135.0</td>\n",
       "      <td>-100.0</td>\n",
       "      <td>-100.0</td>\n",
       "      <td>-100.0</td>\n",
       "    </tr>\n",
       "    <tr>\n",
       "      <th>3</th>\n",
       "      <td>-100.0</td>\n",
       "      <td>85.0</td>\n",
       "      <td>107.0</td>\n",
       "      <td>-100.0</td>\n",
       "      <td>107.0</td>\n",
       "      <td>-100.0</td>\n",
       "      <td>135.0</td>\n",
       "      <td>-100.0</td>\n",
       "      <td>-100.0</td>\n",
       "    </tr>\n",
       "    <tr>\n",
       "      <th>4</th>\n",
       "      <td>-100.0</td>\n",
       "      <td>85.0</td>\n",
       "      <td>-100.0</td>\n",
       "      <td>107.0</td>\n",
       "      <td>-100.0</td>\n",
       "      <td>-100.0</td>\n",
       "      <td>-100.0</td>\n",
       "      <td>135.0</td>\n",
       "      <td>-100.0</td>\n",
       "    </tr>\n",
       "    <tr>\n",
       "      <th>5</th>\n",
       "      <td>-100.0</td>\n",
       "      <td>-100.0</td>\n",
       "      <td>107.0</td>\n",
       "      <td>-100.0</td>\n",
       "      <td>-100.0</td>\n",
       "      <td>-100.0</td>\n",
       "      <td>135.0</td>\n",
       "      <td>-100.0</td>\n",
       "      <td>170.0</td>\n",
       "    </tr>\n",
       "    <tr>\n",
       "      <th>6</th>\n",
       "      <td>-100.0</td>\n",
       "      <td>-100.0</td>\n",
       "      <td>-100.0</td>\n",
       "      <td>107.0</td>\n",
       "      <td>-100.0</td>\n",
       "      <td>135.0</td>\n",
       "      <td>-100.0</td>\n",
       "      <td>135.0</td>\n",
       "      <td>170.0</td>\n",
       "    </tr>\n",
       "    <tr>\n",
       "      <th>7</th>\n",
       "      <td>-100.0</td>\n",
       "      <td>-100.0</td>\n",
       "      <td>-100.0</td>\n",
       "      <td>-100.0</td>\n",
       "      <td>107.0</td>\n",
       "      <td>-100.0</td>\n",
       "      <td>135.0</td>\n",
       "      <td>-100.0</td>\n",
       "      <td>170.0</td>\n",
       "    </tr>\n",
       "    <tr>\n",
       "      <th>8</th>\n",
       "      <td>-100.0</td>\n",
       "      <td>-100.0</td>\n",
       "      <td>-100.0</td>\n",
       "      <td>-100.0</td>\n",
       "      <td>-100.0</td>\n",
       "      <td>70.0</td>\n",
       "      <td>88.0</td>\n",
       "      <td>78.0</td>\n",
       "      <td>-100.0</td>\n",
       "    </tr>\n",
       "  </tbody>\n",
       "</table>\n",
       "</div>"
      ],
      "text/plain": [
       "       0      1      2      3      4      5      6      7      8\n",
       "0 -100.0 -100.0 -100.0 -100.0 -100.0 -100.0 -100.0 -100.0 -100.0\n",
       "1 -100.0 -100.0  107.0  107.0  107.0 -100.0 -100.0 -100.0 -100.0\n",
       "2 -100.0   85.0 -100.0  107.0 -100.0  135.0 -100.0 -100.0 -100.0\n",
       "3 -100.0   85.0  107.0 -100.0  107.0 -100.0  135.0 -100.0 -100.0\n",
       "4 -100.0   85.0 -100.0  107.0 -100.0 -100.0 -100.0  135.0 -100.0\n",
       "5 -100.0 -100.0  107.0 -100.0 -100.0 -100.0  135.0 -100.0  170.0\n",
       "6 -100.0 -100.0 -100.0  107.0 -100.0  135.0 -100.0  135.0  170.0\n",
       "7 -100.0 -100.0 -100.0 -100.0  107.0 -100.0  135.0 -100.0  170.0\n",
       "8 -100.0 -100.0 -100.0 -100.0 -100.0   70.0   88.0   78.0 -100.0"
      ]
     },
     "execution_count": 11,
     "metadata": {},
     "output_type": "execute_result"
    }
   ],
   "source": [
    "pd.DataFrame(Q)"
   ]
  },
  {
   "cell_type": "code",
   "execution_count": 12,
   "metadata": {},
   "outputs": [],
   "source": [
    "def shortest_path(begin,end):\n",
    "    path=[begin]\n",
    "    next_node=np.argmax(Q[begin,])\n",
    "    path.append(next_node)\n",
    "    while next_node != end:\n",
    "        next_node = np.argmax(Q[next_node,])\n",
    "        path.append(next_node)\n",
    "    return path"
   ]
  },
  {
   "cell_type": "code",
   "execution_count": 13,
   "metadata": {},
   "outputs": [],
   "source": [
    "from time import process_time"
   ]
  },
  {
   "cell_type": "code",
   "execution_count": 14,
   "metadata": {},
   "outputs": [],
   "source": [
    "n = 50000"
   ]
  },
  {
   "cell_type": "code",
   "execution_count": 15,
   "metadata": {},
   "outputs": [
    {
     "name": "stdout",
     "output_type": "stream",
     "text": [
      "Q-Learning time is 3.1811360000001446e-05\n",
      "Path is [1, 2, 5, 8]\n"
     ]
    }
   ],
   "source": [
    "elapsed_time = 0\n",
    "for i in range(n):\n",
    "    start_qlearning = process_time()\n",
    "    path = shortest_path(1, 8)\n",
    "    end_qlearning = process_time()\n",
    "    elapsed_time += end_qlearning - start_qlearning\n",
    "qlearning_time = elapsed_time / n\n",
    "print(\"Q-Learning time is\", qlearning_time)\n",
    "print(\"Path is\", path)"
   ]
  },
  {
   "cell_type": "code",
   "execution_count": null,
   "metadata": {},
   "outputs": [],
   "source": []
  }
 ],
 "metadata": {
  "kernelspec": {
   "display_name": "Python 3",
   "language": "python",
   "name": "python3"
  },
  "language_info": {
   "codemirror_mode": {
    "name": "ipython",
    "version": 3
   },
   "file_extension": ".py",
   "mimetype": "text/x-python",
   "name": "python",
   "nbconvert_exporter": "python",
   "pygments_lexer": "ipython3",
   "version": "3.7.6"
  }
 },
 "nbformat": 4,
 "nbformat_minor": 4
}
